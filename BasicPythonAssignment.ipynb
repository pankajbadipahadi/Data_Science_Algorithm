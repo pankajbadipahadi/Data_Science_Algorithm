{
  "nbformat": 4,
  "nbformat_minor": 0,
  "metadata": {
    "colab": {
      "provenance": []
    },
    "kernelspec": {
      "name": "python3",
      "display_name": "Python 3"
    },
    "language_info": {
      "name": "python"
    }
  },
  "cells": [
    {
      "cell_type": "markdown",
      "source": [
        "# **Python Programming Assignment**"
      ],
      "metadata": {
        "id": "aCXvwXCZOD1M"
      }
    },
    {
      "cell_type": "markdown",
      "source": [
        "**Exercise 1: Prime Numbers**\n",
        "\n",
        "Write a Python program that checks whether a given number is prime or not. A prime number is a natural number greater than 1 that has no positive divisors other than 1 and itself."
      ],
      "metadata": {
        "id": "z4EohZM4ONFe"
      }
    },
    {
      "cell_type": "code",
      "source": [
        "def is_prime(number):\n",
        "\n",
        "    if number <= 1:\n",
        "        return False\n",
        "\n",
        "# Only need to check divisors up to sqrt(number)\n",
        "    for i in range(2, int(number ** 0.5) + 1):\n",
        "        if number % i == 0:\n",
        "            return False\n",
        "    return True\n",
        "\n",
        "# User input number\n",
        "num = int(input(\"Enter a number: \"))\n",
        "\n",
        "if is_prime(num):\n",
        "    print(f\"{num} is a prime number.\")\n",
        "else:\n",
        "    print(f\"{num} is not a prime number.\")\n"
      ],
      "metadata": {
        "colab": {
          "base_uri": "https://localhost:8080/"
        },
        "id": "P9_jfdTqO3Fc",
        "outputId": "37035d51-dd83-407d-f935-7be3c3aa2e95"
      },
      "execution_count": null,
      "outputs": [
        {
          "output_type": "stream",
          "name": "stdout",
          "text": [
            "Enter a number: 17\n",
            "17 is a prime number.\n"
          ]
        }
      ]
    },
    {
      "cell_type": "markdown",
      "source": [
        "**Exercise 2: Product of random numbers**\n",
        "\n",
        "Develop a Python program that generates two random numbers and asks the user to enter the product of these numbers. The program should then check if the user's answer is correct and display an appropriate message."
      ],
      "metadata": {
        "id": "paeouhqIPFI5"
      }
    },
    {
      "cell_type": "code",
      "source": [
        "import random\n",
        "\n",
        "# Generate two random numbers\n",
        "n1 = random.randint(1, 10)\n",
        "n2 = random.randint(1, 100)\n",
        "\n",
        "# Calculate the correct product\n",
        "correct_product = n1 * n2\n",
        "\n",
        "# Ask the user for the product\n",
        "user_input = int(input(f\"What is the product of {n1} and {n2}: \"))\n",
        "\n",
        "# Check if the user's answer is correct\n",
        "if user_input == correct_product:\n",
        "    print(\"Correct! Well done.\")\n",
        "else:\n",
        "    print(f\"Incorrect. The correct answer is {correct_product}.\")"
      ],
      "metadata": {
        "colab": {
          "base_uri": "https://localhost:8080/"
        },
        "id": "g8AHka1aPqfF",
        "outputId": "95b30402-a40f-4266-b85f-c5207c99b082"
      },
      "execution_count": 1,
      "outputs": [
        {
          "output_type": "stream",
          "name": "stdout",
          "text": [
            "What is the product of 1 and 20: 20\n",
            "Correct! Well done.\n"
          ]
        }
      ]
    },
    {
      "cell_type": "markdown",
      "source": [
        "**Exercise 3: Squares of Even/Odd Numbers**\n",
        "\n",
        "Create a Python script that prints the squares of all even or odd numbers within the range of 100 to 200. Choose either even or odd numbers and document your choice in the code."
      ],
      "metadata": {
        "id": "69iA9Kf6P8xJ"
      }
    },
    {
      "cell_type": "code",
      "source": [
        "for num in range(100, 201):\n",
        "\n",
        "# Check if the number is odd\n",
        "    if num % 2 != 0:\n",
        "        square = num ** 2\n",
        "        print(f\"The square of {num} odd number is {square}\")"
      ],
      "metadata": {
        "colab": {
          "base_uri": "https://localhost:8080/"
        },
        "id": "gpthuqAsQOO8",
        "outputId": "8385ac58-49e3-42e2-90f3-b913e7a17983"
      },
      "execution_count": 2,
      "outputs": [
        {
          "output_type": "stream",
          "name": "stdout",
          "text": [
            "The square of 101 odd number is 10201\n",
            "The square of 103 odd number is 10609\n",
            "The square of 105 odd number is 11025\n",
            "The square of 107 odd number is 11449\n",
            "The square of 109 odd number is 11881\n",
            "The square of 111 odd number is 12321\n",
            "The square of 113 odd number is 12769\n",
            "The square of 115 odd number is 13225\n",
            "The square of 117 odd number is 13689\n",
            "The square of 119 odd number is 14161\n",
            "The square of 121 odd number is 14641\n",
            "The square of 123 odd number is 15129\n",
            "The square of 125 odd number is 15625\n",
            "The square of 127 odd number is 16129\n",
            "The square of 129 odd number is 16641\n",
            "The square of 131 odd number is 17161\n",
            "The square of 133 odd number is 17689\n",
            "The square of 135 odd number is 18225\n",
            "The square of 137 odd number is 18769\n",
            "The square of 139 odd number is 19321\n",
            "The square of 141 odd number is 19881\n",
            "The square of 143 odd number is 20449\n",
            "The square of 145 odd number is 21025\n",
            "The square of 147 odd number is 21609\n",
            "The square of 149 odd number is 22201\n",
            "The square of 151 odd number is 22801\n",
            "The square of 153 odd number is 23409\n",
            "The square of 155 odd number is 24025\n",
            "The square of 157 odd number is 24649\n",
            "The square of 159 odd number is 25281\n",
            "The square of 161 odd number is 25921\n",
            "The square of 163 odd number is 26569\n",
            "The square of 165 odd number is 27225\n",
            "The square of 167 odd number is 27889\n",
            "The square of 169 odd number is 28561\n",
            "The square of 171 odd number is 29241\n",
            "The square of 173 odd number is 29929\n",
            "The square of 175 odd number is 30625\n",
            "The square of 177 odd number is 31329\n",
            "The square of 179 odd number is 32041\n",
            "The square of 181 odd number is 32761\n",
            "The square of 183 odd number is 33489\n",
            "The square of 185 odd number is 34225\n",
            "The square of 187 odd number is 34969\n",
            "The square of 189 odd number is 35721\n",
            "The square of 191 odd number is 36481\n",
            "The square of 193 odd number is 37249\n",
            "The square of 195 odd number is 38025\n",
            "The square of 197 odd number is 38809\n",
            "The square of 199 odd number is 39601\n"
          ]
        }
      ]
    },
    {
      "cell_type": "markdown",
      "source": [
        "**Exercise 4: Word Counter**\n",
        "\n",
        "Write a program to count the number of words in a given text."
      ],
      "metadata": {
        "id": "BqtSeZeWRB87"
      }
    },
    {
      "cell_type": "code",
      "source": [
        "def count_words(text):\n",
        "\n",
        "# Use split function to seperate text\n",
        "    words = text.split()\n",
        "    return len(words)\n",
        "text = \"Hii my name is Pankaj.\"\n",
        "word_count = count_words(text)\n",
        "print(f\"The number of words in the text is: {word_count}\")"
      ],
      "metadata": {
        "colab": {
          "base_uri": "https://localhost:8080/"
        },
        "id": "ewUOrOWpRRPV",
        "outputId": "193fba36-97c5-4ae2-e297-82fe2e4c1ae6"
      },
      "execution_count": null,
      "outputs": [
        {
          "output_type": "stream",
          "name": "stdout",
          "text": [
            "The number of words in the text is: 5\n"
          ]
        }
      ]
    },
    {
      "cell_type": "markdown",
      "source": [
        "**Exercise 5: Check for Palindrome**\n",
        "\n",
        "Write a Python function called is_palindrome that takes a string as input and returns True if the string is a palindrome, and False otherwise. A palindrome is a word, phrase, number, or other sequence of characters that reads the same forward and backward, ignoring spaces, punctuation, and capitalization."
      ],
      "metadata": {
        "id": "dHk_AxWpR4AC"
      }
    },
    {
      "cell_type": "code",
      "source": [
        "import re\n",
        "def is_palindrome(text):\n",
        "\n",
        "# Remove space and symbols and convert it in lower case\n",
        "    cleaned_text = re.sub(r'[^a-zA-Z0-9]', '', text).lower()\n",
        "    return cleaned_text == cleaned_text[::-1]\n",
        "print(is_palindrome(\"Racecar\"))\n",
        "print(is_palindrome(\"A man, a plan, a canal: Panama\"))\n",
        "print(is_palindrome(\"Hello\"))\n",
        "print(is_palindrome(\"Nayan\"))"
      ],
      "metadata": {
        "colab": {
          "base_uri": "https://localhost:8080/"
        },
        "id": "AyCmCu8KSC2l",
        "outputId": "67780c75-d021-412f-a06f-b12e2f248bbe"
      },
      "execution_count": 3,
      "outputs": [
        {
          "output_type": "stream",
          "name": "stdout",
          "text": [
            "True\n",
            "True\n",
            "False\n",
            "True\n"
          ]
        }
      ]
    },
    {
      "cell_type": "code",
      "source": [],
      "metadata": {
        "id": "Uq3kaetXS9Tq"
      },
      "execution_count": null,
      "outputs": []
    }
  ]
}