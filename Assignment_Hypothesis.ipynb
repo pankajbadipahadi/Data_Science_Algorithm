{
  "nbformat": 4,
  "nbformat_minor": 0,
  "metadata": {
    "colab": {
      "provenance": []
    },
    "kernelspec": {
      "name": "python3",
      "display_name": "Python 3"
    },
    "language_info": {
      "name": "python"
    }
  },
  "cells": [
    {
      "cell_type": "markdown",
      "source": [
        "# **HYPOTHESIS TESTING**"
      ],
      "metadata": {
        "id": "JRA0O0pxeWgW"
      }
    },
    {
      "cell_type": "markdown",
      "source": [
        "Data Provided:\n",
        "\n",
        "•\tThe theoretical weekly operating cost model: W = $1,000 + $5X\n",
        "\n",
        "•\tSample of 25 restaurants with a mean weekly cost of Rs. 3,050\n",
        "\n",
        "•\tNumber of units produced in a week (X) follows a normal distribution with a mean (μ) of 600 units and a standard deviation (σ) of 25 units.\n"
      ],
      "metadata": {
        "id": "BhpWb5ewfeA3"
      }
    },
    {
      "cell_type": "markdown",
      "source": [
        "# **1) State the hypothesis statement**"
      ],
      "metadata": {
        "id": "fTW1M0blf4Sx"
      }
    },
    {
      "cell_type": "markdown",
      "source": [
        "Hypothesis Testing Mechanism\n",
        "1) Null Hypothesis (H0) : mean weekly operating cost = theoretical mean weekly operating cost.\n",
        "\n",
        "H0  u= $ 1000 + $ 5 * X\n",
        "\n",
        "where X is mean number of units produced, given as 600 units\n",
        "\n",
        "H0: u= $ 1000 + $ 5 * 600\n",
        "\n",
        "     = $ 1000 + $ 3000 = $ 4000\n",
        "\n",
        "2) Alternative Hypothesis (H1) : (Opposite of H0) mean weekly operating cost != theoretical mean weekly operating cost.\n",
        "\n",
        " H1 : u!= $ 4000"
      ],
      "metadata": {
        "id": "ZHMhlNHOsw7L"
      }
    },
    {
      "cell_type": "markdown",
      "source": [
        "# **2) Calculate the Test Staistics**"
      ],
      "metadata": {
        "id": "bNEDfqe1jXn8"
      }
    },
    {
      "cell_type": "code",
      "source": [
        "# Given :\n",
        "#\tˉxˉ = sample mean weekly cost (Rs. 3,050)\n",
        "#\tμ = theoretical mean weekly cost according to the cost model (W = $1,000 + $5X for X = 600 units)\n",
        "#\tσ = 5*25 units\n",
        "#\tn = sample size (25 restaurants)\n",
        "\n",
        "import numpy as np\n",
        "from scipy import stats\n",
        "import math\n",
        "\n",
        "sample_mean=3050\n",
        "population_mean=4000\n",
        "population_std=5*25\n",
        "sample_size=25\n",
        "\n",
        "z_value=(sample_mean-population_mean)/(population_std/math.sqrt(sample_size))\n",
        "print(f\"Z-value :{z_value}\")\n",
        "\n",
        "p_value=2*(1-stats.norm.cdf(abs(z_value)))\n",
        "print(f\"P-value :{p_value}\")\n",
        "\n",
        "alpha=0.05\n",
        "\n",
        "if p_value< alpha:\n",
        "  print(\"Reject Null Hypothesis\")\n",
        "  print(\"Mean weekly operating cost != theoretical mean weekly operating cost\")\n",
        "else:\n",
        "  print(\"Accept Null Hypothesis\")\n",
        "  print(\"Mean weekly operating cost = theoretical mean weekly operating cost\")\n"
      ],
      "metadata": {
        "colab": {
          "base_uri": "https://localhost:8080/"
        },
        "id": "IFek-cUejWl3",
        "outputId": "c3158ea5-46a0-4f34-d891-208ba426aa12"
      },
      "execution_count": 1,
      "outputs": [
        {
          "output_type": "stream",
          "name": "stdout",
          "text": [
            "Z-value :-38.0\n",
            "P-value :0.0\n",
            "Reject Null Hypothesis\n",
            "Mean weekly operating cost != theoretical mean weekly operating cost\n"
          ]
        }
      ]
    },
    {
      "cell_type": "markdown",
      "source": [
        "# **3) Determine the critical value**"
      ],
      "metadata": {
        "id": "QWQz369coVfa"
      }
    },
    {
      "cell_type": "code",
      "source": [
        "# alpha=0.05\n",
        "alpha=0.05\n",
        "\n",
        "from scipy.stats import norm\n",
        "\n",
        "# Critical Z-value for lower tail\n",
        "critical_lower = norm.ppf(alpha / 2)\n",
        "\n",
        "# Critical Z-value for upper tail\n",
        "critical_upper = norm.ppf(1 - alpha / 2)\n",
        "\n",
        "print(f\"For a two-tailed test with alpha = {alpha}:\")\n",
        "print(f\"The critical Z-values are approximately {critical_lower:.4f} and {critical_upper:.4f}\")\n"
      ],
      "metadata": {
        "colab": {
          "base_uri": "https://localhost:8080/"
        },
        "id": "pL3XMdHyocQn",
        "outputId": "50fd7406-265b-4b89-8850-da1d5028961b"
      },
      "execution_count": 2,
      "outputs": [
        {
          "output_type": "stream",
          "name": "stdout",
          "text": [
            "For a two-tailed test with alpha = 0.05:\n",
            "The critical Z-values are approximately -1.9600 and 1.9600\n"
          ]
        }
      ]
    },
    {
      "cell_type": "markdown",
      "source": [
        "# **4) Make a decision**"
      ],
      "metadata": {
        "id": "7xhnRmi7qIzd"
      }
    },
    {
      "cell_type": "code",
      "source": [
        "# Reject Null Hupothesis (H0) if test statistics falls outside the range of critical values.\n",
        "# For a two tailed test, reject H0 if Z-statistics < critical_lower or z-statistics > critical_upper.\n",
        "if z_value < critical_lower or z_value > critical_upper:\n",
        "  print(\"Decision is Reject Null Hypothesis (H0)\")\n",
        "  print(\"Z-Statistics falls in rejection region\")\n",
        "else:\n",
        "  print(\"Decision is Accept Null Hypothesis (H1)\")\n",
        "  print(\"Z-Statistics falls outside rejection region\")"
      ],
      "metadata": {
        "colab": {
          "base_uri": "https://localhost:8080/"
        },
        "id": "YPFwR-7cqHPu",
        "outputId": "afada92a-63f5-4c2a-ae6d-31444c6c188a"
      },
      "execution_count": 3,
      "outputs": [
        {
          "output_type": "stream",
          "name": "stdout",
          "text": [
            "Decision is Reject Null Hypothesis (H0)\n",
            "Z-Statistics falls in rejection region\n"
          ]
        }
      ]
    },
    {
      "cell_type": "markdown",
      "source": [
        "# **5) Conclusion**"
      ],
      "metadata": {
        "id": "5p_hmHS-s7Fi"
      }
    },
    {
      "cell_type": "markdown",
      "source": [
        "Based on the hypothesis test:\n",
        "\n",
        "1) The calculated Z-statistic (-38.0) falls in the rejection region (outside the critical values of approximately -1.9600 and 1.9600).\n",
        "2) The p-value (0.0) is less than the alpha = 0.05.\n",
        "3) Therefore, we reject the null hypothesis (H0).\n",
        "\n",
        "There is sufficient evidence to conclude that the mean weekly operating cost of the restaurants is significantly different from the theoretical mean weekly operating cost of $4,000.\n",
        "\n",
        "While the test indicates a significant difference, the calculated sample mean ( 3,050)is actually lower than the theoretical mean( 4,000). This means that based on this sample, there is strong evidence that the weekly operating costs are lower than the model suggests, rather than higher."
      ],
      "metadata": {
        "id": "qkHRufDjsDfH"
      }
    }
  ]
}