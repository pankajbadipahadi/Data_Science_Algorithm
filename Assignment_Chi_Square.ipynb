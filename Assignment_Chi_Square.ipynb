{
  "nbformat": 4,
  "nbformat_minor": 0,
  "metadata": {
    "colab": {
      "provenance": []
    },
    "kernelspec": {
      "name": "python3",
      "display_name": "Python 3"
    },
    "language_info": {
      "name": "python"
    }
  },
  "cells": [
    {
      "cell_type": "markdown",
      "source": [
        "# **Chi-Square**"
      ],
      "metadata": {
        "id": "eB-ZX8zo2C1j"
      }
    },
    {
      "cell_type": "markdown",
      "source": [
        "**1) State the hypothesis**"
      ],
      "metadata": {
        "id": "R3NpEheG2LhT"
      }
    },
    {
      "cell_type": "code",
      "source": [
        "# Null Hypothesis (H0):\n",
        "# There is no association between the type of smart home device purchased and the customer satisfaction level. In other words, the variables are independent.\n",
        "\n",
        "# Alternative Hypothesis (H1):\n",
        "# There is an association between the type of smart home device purchased and the customer satisfaction level. In other words, the variables are dependent."
      ],
      "metadata": {
        "id": "JSMTaWGZ2SmF"
      },
      "execution_count": null,
      "outputs": []
    },
    {
      "cell_type": "markdown",
      "source": [
        "**2) Compute the chi-square statistics**"
      ],
      "metadata": {
        "id": "Xg8EY6Nn2awr"
      }
    },
    {
      "cell_type": "code",
      "source": [
        "import numpy as np\n",
        "from scipy.stats import chi2_contingency\n",
        "\n",
        "# contegency table\n",
        "data=np.array([\n",
        "    [50,70],\n",
        "    [80,100],\n",
        "    [60,90],\n",
        "    [30,50],\n",
        "    [20,50]\n",
        "])\n",
        "\n",
        "chi2_stat, p, dof, expected = chi2_contingency(data)\n",
        "\n",
        "print(f\"Chi-square statistic: {chi2_stat}\")\n",
        "print(f\"P-value: {p}\")\n",
        "print(f\"Degrees of freedom: {dof}\")\n",
        "print(f\"Expected frequencies:\\n{expected}\")"
      ],
      "metadata": {
        "colab": {
          "base_uri": "https://localhost:8080/"
        },
        "id": "SxGx0IUK1iDn",
        "outputId": "4ee54b64-4175-4cc4-eab5-e75c6493336c"
      },
      "execution_count": null,
      "outputs": [
        {
          "output_type": "stream",
          "name": "stdout",
          "text": [
            "Chi-square statistic: 5.638227513227513\n",
            "P-value: 0.22784371130697179\n",
            "Degrees of freedom: 4\n",
            "Expected frequencies:\n",
            "[[ 48.  72.]\n",
            " [ 72. 108.]\n",
            " [ 60.  90.]\n",
            " [ 32.  48.]\n",
            " [ 28.  42.]]\n"
          ]
        }
      ]
    },
    {
      "cell_type": "markdown",
      "source": [
        "**3) Determine the critical value**"
      ],
      "metadata": {
        "id": "c6vdnjfW2jw1"
      }
    },
    {
      "cell_type": "code",
      "source": [
        "from scipy.stats import chi2\n",
        "alpha = 0.05\n",
        "dof = 4\n",
        "critical_value = chi2.ppf(1 - alpha, dof)\n",
        "\n",
        "print(\"Critical Value at α = 0.05:\", round(critical_value, 3))"
      ],
      "metadata": {
        "colab": {
          "base_uri": "https://localhost:8080/"
        },
        "id": "NxlkRWDEwxYh",
        "outputId": "1c99762f-4d5d-4e48-fbd9-047fb78052f7"
      },
      "execution_count": null,
      "outputs": [
        {
          "output_type": "stream",
          "name": "stdout",
          "text": [
            "Critical Value at α = 0.05: 9.488\n"
          ]
        }
      ]
    },
    {
      "cell_type": "markdown",
      "source": [
        "**4) Make a decision**"
      ],
      "metadata": {
        "id": "U2UXxYUO2q5O"
      }
    },
    {
      "cell_type": "code",
      "source": [
        "if chi2_stat > critical_value:\n",
        "    print(\"\\nDecision is Reject the null hypothesis (H0).\")\n",
        "    print(\"Conclusion: There is a significant association between device type and satisfaction level.\")\n",
        "else:\n",
        "    print(\"\\nDecision is Fail to reject the null hypothesis (H1).\")\n",
        "    print(\"Conclusion: There is no significant association between device type and satisfaction level.\")"
      ],
      "metadata": {
        "colab": {
          "base_uri": "https://localhost:8080/"
        },
        "id": "ZyBJTi651wXi",
        "outputId": "8c286942-315d-4924-b0c0-93421046f37f"
      },
      "execution_count": null,
      "outputs": [
        {
          "output_type": "stream",
          "name": "stdout",
          "text": [
            "\n",
            "Decision is Fail to reject the null hypothesis (H1).\n",
            "Conclusion: There is no significant association between device type and satisfaction level.\n"
          ]
        }
      ]
    }
  ]
}